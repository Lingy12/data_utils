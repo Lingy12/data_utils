{
 "cells": [
  {
   "cell_type": "code",
   "execution_count": 2,
   "metadata": {},
   "outputs": [],
   "source": [
    "import os\n",
    "os.environ['CUDA_VISIBLE_DEVICES'] = \"2\""
   ]
  },
  {
   "cell_type": "code",
   "execution_count": 3,
   "metadata": {},
   "outputs": [
    {
     "name": "stderr",
     "output_type": "stream",
     "text": [
      "Downloading: \"https://github.com/snakers4/silero-vad/zipball/master\" to /home/geyu/.cache/torch/hub/master.zip\n"
     ]
    }
   ],
   "source": [
    "from val_utils import *"
   ]
  },
  {
   "cell_type": "code",
   "execution_count": 4,
   "metadata": {},
   "outputs": [],
   "source": [
    "from glob import glob\n",
    "import os \n",
    "import random\n",
    "from tqdm import tqdm\n",
    "\n",
    "def check_folder(root, trail):\n",
    "    mp3_files = glob(os.path.join(root, '**', '*.mp3'), recursive=True)\n",
    "    # print(mp3_files)\n",
    "    def update_score(existing, added):\n",
    "        for k in added:\n",
    "            if added[k] < 0.1:\n",
    "                continue # only keep > 0.1\n",
    "            if k not in existing:\n",
    "                existing[k] = (added[k], 1)\n",
    "            else:\n",
    "                existing[k] = (existing[k][0] + added[k], existing[k][1] + 1)\n",
    "        return existing\n",
    "    agg_top_10 = {}\n",
    "    # random.choices(mp3_files)\n",
    "    for f in tqdm(random.choices(mp3_files, k=trail)):\n",
    "        score = identify_language(f)\n",
    "        \n",
    "        agg_top_10 = update_score(agg_top_10, score)\n",
    "    return {k: agg_top_10[k][0] / agg_top_10[k][1] for k in agg_top_10}"
   ]
  },
  {
   "cell_type": "code",
   "execution_count": 6,
   "metadata": {},
   "outputs": [
    {
     "name": "stderr",
     "output_type": "stream",
     "text": [
      "100%|██████████| 50/50 [00:16<00:00,  3.01it/s]\n"
     ]
    },
    {
     "data": {
      "text/plain": [
       "{'en': 0.451080158618944,\n",
       " 'ms': 0.7921705626779132,\n",
       " 'haw': 0.21037374436855316,\n",
       " 'jw': 0.1409413069486618,\n",
       " 'zh': 0.9680879712104797,\n",
       " 'nn': 0.21779648214578629,\n",
       " 'sv': 0.13019199669361115,\n",
       " 'fi': 0.10777455568313599,\n",
       " 'vi': 0.24266552925109863}"
      ]
     },
     "execution_count": 6,
     "metadata": {},
     "output_type": "execute_result"
    }
   ],
   "source": [
    "check_folder('/home/geyu/data/youtube_v1/mrbrown', 50)"
   ]
  },
  {
   "cell_type": "code",
   "execution_count": 7,
   "metadata": {},
   "outputs": [
    {
     "name": "stderr",
     "output_type": "stream",
     "text": [
      "100%|██████████| 50/50 [01:37<00:00,  1.94s/it]\n"
     ]
    },
    {
     "data": {
      "text/plain": [
       "{'ms': 0.6888026574254036, 'en': 0.3061155196693208, 'zh': 0.12472456490451639}"
      ]
     },
     "execution_count": 7,
     "metadata": {},
     "output_type": "execute_result"
    }
   ],
   "source": [
    "check_folder('/home/geyu/data/youtube_v1/pck', 50)"
   ]
  },
  {
   "cell_type": "code",
   "execution_count": 9,
   "metadata": {},
   "outputs": [
    {
     "name": "stderr",
     "output_type": "stream",
     "text": [
      "100%|██████████| 50/50 [00:50<00:00,  1.02s/it]\n"
     ]
    },
    {
     "data": {
      "text/plain": [
       "{'en': 0.997158658504486}"
      ]
     },
     "execution_count": 9,
     "metadata": {},
     "output_type": "execute_result"
    }
   ],
   "source": [
    "check_folder('/home/geyu/data/youtube_en/crashcourse', 50)"
   ]
  },
  {
   "cell_type": "code",
   "execution_count": 6,
   "metadata": {},
   "outputs": [
    {
     "name": "stderr",
     "output_type": "stream",
     "text": [
      "100%|██████████| 20/20 [00:11<00:00,  1.69it/s]\n"
     ]
    },
    {
     "data": {
      "text/plain": [
       "{'ms': 0.7767903457085291,\n",
       " 'en': 0.21983500684683138,\n",
       " 'ja': 0.336849182844162,\n",
       " 'ko': 0.19012144207954407,\n",
       " 'vi': 0.10258569568395615,\n",
       " 'zh': 0.10005594044923782}"
      ]
     },
     "execution_count": 6,
     "metadata": {},
     "output_type": "execute_result"
    }
   ],
   "source": [
    "check_folder('/home/geyu/data/youtube_test/thesmartlocal', 20)"
   ]
  },
  {
   "cell_type": "code",
   "execution_count": null,
   "metadata": {},
   "outputs": [],
   "source": []
  }
 ],
 "metadata": {
  "kernelspec": {
   "display_name": "data",
   "language": "python",
   "name": "python3"
  },
  "language_info": {
   "codemirror_mode": {
    "name": "ipython",
    "version": 3
   },
   "file_extension": ".py",
   "mimetype": "text/x-python",
   "name": "python",
   "nbconvert_exporter": "python",
   "pygments_lexer": "ipython3",
   "version": "3.10.0"
  }
 },
 "nbformat": 4,
 "nbformat_minor": 2
}
