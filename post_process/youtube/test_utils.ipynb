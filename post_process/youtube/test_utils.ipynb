{
 "cells": [
  {
   "cell_type": "code",
   "execution_count": 31,
   "metadata": {},
   "outputs": [],
   "source": [
    "sample_audio = '/home/geyu/data/youtube_v1/mrbrown/NyvlTma3deU.mp3'"
   ]
  },
  {
   "cell_type": "code",
   "execution_count": 32,
   "metadata": {},
   "outputs": [],
   "source": [
    "from val_utils import *"
   ]
  },
  {
   "cell_type": "code",
   "execution_count": 33,
   "metadata": {},
   "outputs": [
    {
     "name": "stderr",
     "output_type": "stream",
     "text": [
      "/home/geyu/.cache/torch/hub/snakers4_silero-vad_master/utils_vad.py:255: UserWarning: Sampling rate is a multiply of 16000, casting to 16000 manually!\n",
      "  warnings.warn('Sampling rate is a multiply of 16000, casting to 16000 manually!')\n"
     ]
    },
    {
     "data": {
      "text/plain": [
       "{'active_length': 171.712,\n",
       " 'original_length': 196.882,\n",
       " 'active_ratio': 0.8721569264838838}"
      ]
     },
     "execution_count": 33,
     "metadata": {},
     "output_type": "execute_result"
    }
   ],
   "source": [
    "get_va_length(sample_audio)"
   ]
  },
  {
   "cell_type": "code",
   "execution_count": 34,
   "metadata": {},
   "outputs": [
    {
     "data": {
      "text/plain": [
       "{'ms': 0.8753645420074463,\n",
       " 'en': 0.12263530492782593,\n",
       " 'zh': 0.0005040757241658866,\n",
       " 'vi': 0.0003971510159317404,\n",
       " 'nn': 0.00025756549439392984,\n",
       " 'id': 0.00015726640413049608,\n",
       " 'da': 0.00014814684982411563,\n",
       " 'th': 0.00011464879935374483,\n",
       " 'km': 9.824807057157159e-05,\n",
       " 'jw': 9.44427156355232e-05}"
      ]
     },
     "execution_count": 34,
     "metadata": {},
     "output_type": "execute_result"
    }
   ],
   "source": [
    "identify_language(sample_audio)"
   ]
  },
  {
   "cell_type": "code",
   "execution_count": 57,
   "metadata": {},
   "outputs": [],
   "source": [
    "from glob import glob\n",
    "import os \n",
    "import random\n",
    "from tqdm import tqdm\n",
    "\n",
    "def check_folder(root, trail):\n",
    "    mp3_files = glob(os.path.join(root, '**', '*.mp3'), recursive=True)\n",
    "    # print(mp3_files)\n",
    "    def update_score(existing, added):\n",
    "        for k in added:\n",
    "            if added[k] < 0.1:\n",
    "                continue # only keep > 0.1\n",
    "            if k not in existing:\n",
    "                existing[k] = (added[k], 1)\n",
    "            else:\n",
    "                existing[k] = (existing[k][0] + added[k], existing[k][1] + 1)\n",
    "        return existing\n",
    "    agg_top_10 = {}\n",
    "    # random.choices(mp3_files)\n",
    "    for f in tqdm(random.choices(mp3_files, k=trail)):\n",
    "        score = identify_language(f)\n",
    "        \n",
    "        agg_top_10 = update_score(agg_top_10, score)\n",
    "    return {k: agg_top_10[k][0] / agg_top_10[k][1] for k in agg_top_10}"
   ]
  },
  {
   "cell_type": "code",
   "execution_count": 58,
   "metadata": {},
   "outputs": [
    {
     "name": "stderr",
     "output_type": "stream",
     "text": [
      "100%|██████████| 50/50 [00:15<00:00,  3.28it/s]\n"
     ]
    },
    {
     "data": {
      "text/plain": [
       "{'ms': 0.8534538310307723,\n",
       " 'en': 0.3349184918810021,\n",
       " 'ru': 0.2248854637145996,\n",
       " 'jw': 0.18880869448184967,\n",
       " 'ko': 0.18500976264476776,\n",
       " 'zh': 0.5580438785254955,\n",
       " 'km': 0.27448734641075134,\n",
       " 'nn': 0.5906050205230713,\n",
       " 'la': 0.18931353092193604}"
      ]
     },
     "execution_count": 58,
     "metadata": {},
     "output_type": "execute_result"
    }
   ],
   "source": [
    "check_folder('/home/geyu/data/youtube_v1/mrbrown', 50)"
   ]
  },
  {
   "cell_type": "code",
   "execution_count": 53,
   "metadata": {},
   "outputs": [],
   "source": [
    "check_folder('/home/geyu/data/youtube_v1/mrbrown', 50)"
   ]
  },
  {
   "cell_type": "code",
   "execution_count": 59,
   "metadata": {},
   "outputs": [
    {
     "name": "stderr",
     "output_type": "stream",
     "text": [
      "100%|██████████| 50/50 [01:34<00:00,  1.89s/it]\n"
     ]
    },
    {
     "data": {
      "text/plain": [
       "{'ms': 0.6729155617455641,\n",
       " 'en': 0.36361810586908283,\n",
       " 'zh': 0.12776613438671286}"
      ]
     },
     "execution_count": 59,
     "metadata": {},
     "output_type": "execute_result"
    }
   ],
   "source": [
    "check_folder('/home/geyu/data/youtube_v1/pck', 50)"
   ]
  },
  {
   "cell_type": "code",
   "execution_count": 60,
   "metadata": {},
   "outputs": [
    {
     "name": "stderr",
     "output_type": "stream",
     "text": [
      "100%|██████████| 50/50 [00:50<00:00,  1.00s/it]\n"
     ]
    },
    {
     "data": {
      "text/plain": [
       "{'en': 0.9981742107868194}"
      ]
     },
     "execution_count": 60,
     "metadata": {},
     "output_type": "execute_result"
    }
   ],
   "source": [
    "check_folder('/home/geyu/data/youtube_en/crashcourse', 50)"
   ]
  },
  {
   "cell_type": "code",
   "execution_count": null,
   "metadata": {},
   "outputs": [],
   "source": []
  }
 ],
 "metadata": {
  "kernelspec": {
   "display_name": "data",
   "language": "python",
   "name": "python3"
  },
  "language_info": {
   "codemirror_mode": {
    "name": "ipython",
    "version": 3
   },
   "file_extension": ".py",
   "mimetype": "text/x-python",
   "name": "python",
   "nbconvert_exporter": "python",
   "pygments_lexer": "ipython3",
   "version": "3.10.0"
  }
 },
 "nbformat": 4,
 "nbformat_minor": 2
}
